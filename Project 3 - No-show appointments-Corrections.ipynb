{
 "cells": [
  {
   "cell_type": "markdown",
   "id": "51dde633",
   "metadata": {},
   "source": [
    "## Project: Investigate a Dataset - (No Show Appointments - Kaggle)"
   ]
  },
  {
   "cell_type": "markdown",
   "id": "5d49ba18",
   "metadata": {},
   "source": [
    "## Table of Contents\n",
    "\n",
    "1. Introduction\n",
    "2. Data Wrangling \n",
    "3. Exploratory Data Analysis\n",
    "4. Conclusions\n",
    "5. References"
   ]
  },
  {
   "cell_type": "markdown",
   "id": "7afdc17c",
   "metadata": {},
   "source": [
    "## INTRODUCTION\n",
    "\n",
    "This dataset is about the record of medical appointments collected in Brazil. I will be focusing on the factors that might be the reason why patients will or will not show up for an  appointment using the different variables given in the dataset.\n",
    "\n",
    "The variables contain details about each patient and an exploration will be carried out to see if these details have an adverse effect on the response of patients to their medical appointments. \n",
    "\n",
    "A brief explanation is given about each variable present in the dataset below:\n",
    "\n",
    "1. 'Patient ID' indicates the unique number given to each patient.\n",
    "2. 'Appointment ID' shows the unique number given to each patient that is booked for an appointment. \n",
    "3. 'Gender' indicates whether a patient is male or female.\n",
    "4. 'Scheduled Day' tells on what day the patient set up their appointment.\n",
    "5. 'Appointment Day' tells what day the patient was fixed for an appointment by the hospital.\n",
    "6. 'Age' specifies the age group of each patient.\n",
    "7. 'Neighbourhood'indicates the location of the hospital.\n",
    "8. 'Schorlarship' indicates whether or not the patient is enrolled in Brasilian welfare program \"Bolsa Familia\".\n",
    "9. 'Hipertension', 'Diabetes', 'Alcoholism', and 'Handcap' show if patients are hypertensive, diabetic, an alcoholic or handicapped; respectively.\n",
    "10. 'SMS_received' tells if patients received text messages that reminded them about the appointment.\n",
    "11. 'No-show indicates if a patient showed up for their appointment or not.\n",
    "\n",
    "The 'Scheduled Day' and 'Appointed Day' both look similar but are slightly different. The Schedule day tells us when a patient set up their appointment, whereas, the appointment day tells us when the patient was fixed for an appointment by the hospital.\n",
    "\n",
    "## Some questions to be explored:\n",
    "\n",
    "1. Does 'Gender' affect whether or not patients will show up for an appointment?\n",
    "2. will the 'Appointment Day' determine whether or not a patient will be present for his/her appointment?\n",
    "3. will the 'Age' of a patient predict if they will show up for an appointment or not? \n",
    "4. Does being under the \"Bolsa Familia\" scholarship affect whether or not a patient will show up for an appointment?\n",
    "5. Is there a relationship between not receiving an SMS to missing an appointment?\n",
    "6. Does being hypertensive or diabetic prevent a patient from showing up for an appointment?\n",
    "7. Will a handicapped patient find it difficult to show up for an appointment?\n",
    "8. Will being an alcoholic determine if a patient will show up for an appointment or not?\n"
   ]
  },
  {
   "cell_type": "code",
   "execution_count": 1,
   "id": "42b883d0",
   "metadata": {},
   "outputs": [],
   "source": [
    "import numpy as np\n",
    "import pandas as pd\n",
    "import matplotlib.pyplot as plt\n",
    "import seaborn as sns\n",
    "%matplotlib inline"
   ]
  },
  {
   "cell_type": "code",
   "execution_count": 2,
   "id": "461620d1",
   "metadata": {},
   "outputs": [
    {
     "data": {
      "text/html": [
       "<div>\n",
       "<style scoped>\n",
       "    .dataframe tbody tr th:only-of-type {\n",
       "        vertical-align: middle;\n",
       "    }\n",
       "\n",
       "    .dataframe tbody tr th {\n",
       "        vertical-align: top;\n",
       "    }\n",
       "\n",
       "    .dataframe thead th {\n",
       "        text-align: right;\n",
       "    }\n",
       "</style>\n",
       "<table border=\"1\" class=\"dataframe\">\n",
       "  <thead>\n",
       "    <tr style=\"text-align: right;\">\n",
       "      <th></th>\n",
       "      <th>PatientId</th>\n",
       "      <th>AppointmentID</th>\n",
       "      <th>Gender</th>\n",
       "      <th>ScheduledDay</th>\n",
       "      <th>AppointmentDay</th>\n",
       "      <th>Age</th>\n",
       "      <th>Neighbourhood</th>\n",
       "      <th>Scholarship</th>\n",
       "      <th>Hipertension</th>\n",
       "      <th>Diabetes</th>\n",
       "      <th>Alcoholism</th>\n",
       "      <th>Handcap</th>\n",
       "      <th>SMS_received</th>\n",
       "      <th>No-show</th>\n",
       "    </tr>\n",
       "  </thead>\n",
       "  <tbody>\n",
       "    <tr>\n",
       "      <th>0</th>\n",
       "      <td>2.987250e+13</td>\n",
       "      <td>5642903</td>\n",
       "      <td>F</td>\n",
       "      <td>2016-04-29T18:38:08Z</td>\n",
       "      <td>2016-04-29T00:00:00Z</td>\n",
       "      <td>62</td>\n",
       "      <td>JARDIM DA PENHA</td>\n",
       "      <td>0</td>\n",
       "      <td>1</td>\n",
       "      <td>0</td>\n",
       "      <td>0</td>\n",
       "      <td>0</td>\n",
       "      <td>0</td>\n",
       "      <td>No</td>\n",
       "    </tr>\n",
       "    <tr>\n",
       "      <th>1</th>\n",
       "      <td>5.589978e+14</td>\n",
       "      <td>5642503</td>\n",
       "      <td>M</td>\n",
       "      <td>2016-04-29T16:08:27Z</td>\n",
       "      <td>2016-04-29T00:00:00Z</td>\n",
       "      <td>56</td>\n",
       "      <td>JARDIM DA PENHA</td>\n",
       "      <td>0</td>\n",
       "      <td>0</td>\n",
       "      <td>0</td>\n",
       "      <td>0</td>\n",
       "      <td>0</td>\n",
       "      <td>0</td>\n",
       "      <td>No</td>\n",
       "    </tr>\n",
       "    <tr>\n",
       "      <th>2</th>\n",
       "      <td>4.262962e+12</td>\n",
       "      <td>5642549</td>\n",
       "      <td>F</td>\n",
       "      <td>2016-04-29T16:19:04Z</td>\n",
       "      <td>2016-04-29T00:00:00Z</td>\n",
       "      <td>62</td>\n",
       "      <td>MATA DA PRAIA</td>\n",
       "      <td>0</td>\n",
       "      <td>0</td>\n",
       "      <td>0</td>\n",
       "      <td>0</td>\n",
       "      <td>0</td>\n",
       "      <td>0</td>\n",
       "      <td>No</td>\n",
       "    </tr>\n",
       "    <tr>\n",
       "      <th>3</th>\n",
       "      <td>8.679512e+11</td>\n",
       "      <td>5642828</td>\n",
       "      <td>F</td>\n",
       "      <td>2016-04-29T17:29:31Z</td>\n",
       "      <td>2016-04-29T00:00:00Z</td>\n",
       "      <td>8</td>\n",
       "      <td>PONTAL DE CAMBURI</td>\n",
       "      <td>0</td>\n",
       "      <td>0</td>\n",
       "      <td>0</td>\n",
       "      <td>0</td>\n",
       "      <td>0</td>\n",
       "      <td>0</td>\n",
       "      <td>No</td>\n",
       "    </tr>\n",
       "    <tr>\n",
       "      <th>4</th>\n",
       "      <td>8.841186e+12</td>\n",
       "      <td>5642494</td>\n",
       "      <td>F</td>\n",
       "      <td>2016-04-29T16:07:23Z</td>\n",
       "      <td>2016-04-29T00:00:00Z</td>\n",
       "      <td>56</td>\n",
       "      <td>JARDIM DA PENHA</td>\n",
       "      <td>0</td>\n",
       "      <td>1</td>\n",
       "      <td>1</td>\n",
       "      <td>0</td>\n",
       "      <td>0</td>\n",
       "      <td>0</td>\n",
       "      <td>No</td>\n",
       "    </tr>\n",
       "  </tbody>\n",
       "</table>\n",
       "</div>"
      ],
      "text/plain": [
       "      PatientId  AppointmentID Gender          ScheduledDay  \\\n",
       "0  2.987250e+13        5642903      F  2016-04-29T18:38:08Z   \n",
       "1  5.589978e+14        5642503      M  2016-04-29T16:08:27Z   \n",
       "2  4.262962e+12        5642549      F  2016-04-29T16:19:04Z   \n",
       "3  8.679512e+11        5642828      F  2016-04-29T17:29:31Z   \n",
       "4  8.841186e+12        5642494      F  2016-04-29T16:07:23Z   \n",
       "\n",
       "         AppointmentDay  Age      Neighbourhood  Scholarship  Hipertension  \\\n",
       "0  2016-04-29T00:00:00Z   62    JARDIM DA PENHA            0             1   \n",
       "1  2016-04-29T00:00:00Z   56    JARDIM DA PENHA            0             0   \n",
       "2  2016-04-29T00:00:00Z   62      MATA DA PRAIA            0             0   \n",
       "3  2016-04-29T00:00:00Z    8  PONTAL DE CAMBURI            0             0   \n",
       "4  2016-04-29T00:00:00Z   56    JARDIM DA PENHA            0             1   \n",
       "\n",
       "   Diabetes  Alcoholism  Handcap  SMS_received No-show  \n",
       "0         0           0        0             0      No  \n",
       "1         0           0        0             0      No  \n",
       "2         0           0        0             0      No  \n",
       "3         0           0        0             0      No  \n",
       "4         1           0        0             0      No  "
      ]
     },
     "execution_count": 2,
     "metadata": {},
     "output_type": "execute_result"
    }
   ],
   "source": [
    "# To load the first five column of the dataset\n",
    "df = pd.read_csv('no-show-appointments.csv')\n",
    "df.head()"
   ]
  },
  {
   "cell_type": "markdown",
   "id": "47eae478",
   "metadata": {},
   "source": [
    "### Accessing Data"
   ]
  },
  {
   "cell_type": "code",
   "execution_count": 3,
   "id": "7b2573ec",
   "metadata": {},
   "outputs": [
    {
     "data": {
      "text/plain": [
       "0"
      ]
     },
     "execution_count": 3,
     "metadata": {},
     "output_type": "execute_result"
    }
   ],
   "source": [
    "# To check for duplicates\n",
    "df.duplicated().sum()"
   ]
  },
  {
   "cell_type": "markdown",
   "id": "e37828f8",
   "metadata": {},
   "source": [
    "The result above shows that there are no duplicates in the dataset. Next, Lets check for null values in the dataset."
   ]
  },
  {
   "cell_type": "code",
   "execution_count": 4,
   "id": "faec91d6",
   "metadata": {},
   "outputs": [
    {
     "data": {
      "text/plain": [
       "PatientId         0\n",
       "AppointmentID     0\n",
       "Gender            0\n",
       "ScheduledDay      0\n",
       "AppointmentDay    0\n",
       "Age               0\n",
       "Neighbourhood     0\n",
       "Scholarship       0\n",
       "Hipertension      0\n",
       "Diabetes          0\n",
       "Alcoholism        0\n",
       "Handcap           0\n",
       "SMS_received      0\n",
       "No-show           0\n",
       "dtype: int64"
      ]
     },
     "execution_count": 4,
     "metadata": {},
     "output_type": "execute_result"
    }
   ],
   "source": [
    "# To check for null values\n",
    "df.isnull().sum()"
   ]
  },
  {
   "cell_type": "markdown",
   "id": "d7b25684",
   "metadata": {},
   "source": [
    "The summary above shows that there are no null values in the data set."
   ]
  },
  {
   "cell_type": "code",
   "execution_count": 5,
   "id": "e9d4a2a8",
   "metadata": {},
   "outputs": [
    {
     "data": {
      "text/plain": [
       "Index(['PatientId', 'AppointmentID', 'Gender', 'ScheduledDay',\n",
       "       'AppointmentDay', 'Age', 'Neighbourhood', 'Scholarship', 'Hipertension',\n",
       "       'Diabetes', 'Alcoholism', 'Handcap', 'SMS_received', 'No-show'],\n",
       "      dtype='object')"
      ]
     },
     "execution_count": 5,
     "metadata": {},
     "output_type": "execute_result"
    }
   ],
   "source": [
    "# To check for the column names\n",
    "df.columns"
   ]
  },
  {
   "cell_type": "markdown",
   "id": "100a168d",
   "metadata": {},
   "source": [
    "The above output shows that some variables were not spelt correctly. It would be appropriate to correct each cell that was misspelt."
   ]
  },
  {
   "cell_type": "code",
   "execution_count": 6,
   "id": "9bcca2ef",
   "metadata": {},
   "outputs": [],
   "source": [
    "# To rename variables that are not correctly spelt and properly separated\n",
    "df.rename(columns={\n",
    "    'PatientId':'patient_ID',\n",
    "    'AppointmentID':'appointment_ID',\n",
    "    'Gender':'gender', \n",
    "    'ScheduledDay':'scheduled_day',\n",
    "    'AppointmentDay':'appointment_day',\n",
    "    'Age':'age', \n",
    "    'Neighbourhood':'neighbourhood',\n",
    "    'Scholarship':'scholarship', \n",
    "    'Hipertension':'hypertension',\n",
    "    'Diabetes':'diabetes', \n",
    "    'Alcoholism':'alcoholism',\n",
    "    'Handcap':'handicap',\n",
    "    'SMS_received':'SMS_received',\n",
    "    'No-show':'no_show'\n",
    "}, inplace= True)"
   ]
  },
  {
   "cell_type": "code",
   "execution_count": 7,
   "id": "6776b425",
   "metadata": {},
   "outputs": [
    {
     "data": {
      "text/html": [
       "<div>\n",
       "<style scoped>\n",
       "    .dataframe tbody tr th:only-of-type {\n",
       "        vertical-align: middle;\n",
       "    }\n",
       "\n",
       "    .dataframe tbody tr th {\n",
       "        vertical-align: top;\n",
       "    }\n",
       "\n",
       "    .dataframe thead th {\n",
       "        text-align: right;\n",
       "    }\n",
       "</style>\n",
       "<table border=\"1\" class=\"dataframe\">\n",
       "  <thead>\n",
       "    <tr style=\"text-align: right;\">\n",
       "      <th></th>\n",
       "      <th>patient_ID</th>\n",
       "      <th>appointment_ID</th>\n",
       "      <th>gender</th>\n",
       "      <th>scheduled_day</th>\n",
       "      <th>appointment_day</th>\n",
       "      <th>age</th>\n",
       "      <th>neighbourhood</th>\n",
       "      <th>scholarship</th>\n",
       "      <th>hypertension</th>\n",
       "      <th>diabetes</th>\n",
       "      <th>alcoholism</th>\n",
       "      <th>handicap</th>\n",
       "      <th>SMS_received</th>\n",
       "      <th>no_show</th>\n",
       "    </tr>\n",
       "  </thead>\n",
       "  <tbody>\n",
       "    <tr>\n",
       "      <th>0</th>\n",
       "      <td>2.987250e+13</td>\n",
       "      <td>5642903</td>\n",
       "      <td>F</td>\n",
       "      <td>2016-04-29T18:38:08Z</td>\n",
       "      <td>2016-04-29T00:00:00Z</td>\n",
       "      <td>62</td>\n",
       "      <td>JARDIM DA PENHA</td>\n",
       "      <td>0</td>\n",
       "      <td>1</td>\n",
       "      <td>0</td>\n",
       "      <td>0</td>\n",
       "      <td>0</td>\n",
       "      <td>0</td>\n",
       "      <td>No</td>\n",
       "    </tr>\n",
       "    <tr>\n",
       "      <th>1</th>\n",
       "      <td>5.589978e+14</td>\n",
       "      <td>5642503</td>\n",
       "      <td>M</td>\n",
       "      <td>2016-04-29T16:08:27Z</td>\n",
       "      <td>2016-04-29T00:00:00Z</td>\n",
       "      <td>56</td>\n",
       "      <td>JARDIM DA PENHA</td>\n",
       "      <td>0</td>\n",
       "      <td>0</td>\n",
       "      <td>0</td>\n",
       "      <td>0</td>\n",
       "      <td>0</td>\n",
       "      <td>0</td>\n",
       "      <td>No</td>\n",
       "    </tr>\n",
       "    <tr>\n",
       "      <th>2</th>\n",
       "      <td>4.262962e+12</td>\n",
       "      <td>5642549</td>\n",
       "      <td>F</td>\n",
       "      <td>2016-04-29T16:19:04Z</td>\n",
       "      <td>2016-04-29T00:00:00Z</td>\n",
       "      <td>62</td>\n",
       "      <td>MATA DA PRAIA</td>\n",
       "      <td>0</td>\n",
       "      <td>0</td>\n",
       "      <td>0</td>\n",
       "      <td>0</td>\n",
       "      <td>0</td>\n",
       "      <td>0</td>\n",
       "      <td>No</td>\n",
       "    </tr>\n",
       "    <tr>\n",
       "      <th>3</th>\n",
       "      <td>8.679512e+11</td>\n",
       "      <td>5642828</td>\n",
       "      <td>F</td>\n",
       "      <td>2016-04-29T17:29:31Z</td>\n",
       "      <td>2016-04-29T00:00:00Z</td>\n",
       "      <td>8</td>\n",
       "      <td>PONTAL DE CAMBURI</td>\n",
       "      <td>0</td>\n",
       "      <td>0</td>\n",
       "      <td>0</td>\n",
       "      <td>0</td>\n",
       "      <td>0</td>\n",
       "      <td>0</td>\n",
       "      <td>No</td>\n",
       "    </tr>\n",
       "    <tr>\n",
       "      <th>4</th>\n",
       "      <td>8.841186e+12</td>\n",
       "      <td>5642494</td>\n",
       "      <td>F</td>\n",
       "      <td>2016-04-29T16:07:23Z</td>\n",
       "      <td>2016-04-29T00:00:00Z</td>\n",
       "      <td>56</td>\n",
       "      <td>JARDIM DA PENHA</td>\n",
       "      <td>0</td>\n",
       "      <td>1</td>\n",
       "      <td>1</td>\n",
       "      <td>0</td>\n",
       "      <td>0</td>\n",
       "      <td>0</td>\n",
       "      <td>No</td>\n",
       "    </tr>\n",
       "  </tbody>\n",
       "</table>\n",
       "</div>"
      ],
      "text/plain": [
       "     patient_ID  appointment_ID gender         scheduled_day  \\\n",
       "0  2.987250e+13         5642903      F  2016-04-29T18:38:08Z   \n",
       "1  5.589978e+14         5642503      M  2016-04-29T16:08:27Z   \n",
       "2  4.262962e+12         5642549      F  2016-04-29T16:19:04Z   \n",
       "3  8.679512e+11         5642828      F  2016-04-29T17:29:31Z   \n",
       "4  8.841186e+12         5642494      F  2016-04-29T16:07:23Z   \n",
       "\n",
       "        appointment_day  age      neighbourhood  scholarship  hypertension  \\\n",
       "0  2016-04-29T00:00:00Z   62    JARDIM DA PENHA            0             1   \n",
       "1  2016-04-29T00:00:00Z   56    JARDIM DA PENHA            0             0   \n",
       "2  2016-04-29T00:00:00Z   62      MATA DA PRAIA            0             0   \n",
       "3  2016-04-29T00:00:00Z    8  PONTAL DE CAMBURI            0             0   \n",
       "4  2016-04-29T00:00:00Z   56    JARDIM DA PENHA            0             1   \n",
       "\n",
       "   diabetes  alcoholism  handicap  SMS_received no_show  \n",
       "0         0           0         0             0      No  \n",
       "1         0           0         0             0      No  \n",
       "2         0           0         0             0      No  \n",
       "3         0           0         0             0      No  \n",
       "4         1           0         0             0      No  "
      ]
     },
     "execution_count": 7,
     "metadata": {},
     "output_type": "execute_result"
    }
   ],
   "source": [
    "# To see whether changes have been effected by checking the first five rows\n",
    "df.head()"
   ]
  },
  {
   "cell_type": "markdown",
   "id": "9b3c07fe",
   "metadata": {},
   "source": [
    "Changes to the names have been effected and separations made where appropriate. A summary of all information in the dataset will now be shown."
   ]
  },
  {
   "cell_type": "code",
   "execution_count": 8,
   "id": "8b49ab4e",
   "metadata": {},
   "outputs": [
    {
     "name": "stdout",
     "output_type": "stream",
     "text": [
      "<class 'pandas.core.frame.DataFrame'>\n",
      "RangeIndex: 110527 entries, 0 to 110526\n",
      "Data columns (total 14 columns):\n",
      " #   Column           Non-Null Count   Dtype  \n",
      "---  ------           --------------   -----  \n",
      " 0   patient_ID       110527 non-null  float64\n",
      " 1   appointment_ID   110527 non-null  int64  \n",
      " 2   gender           110527 non-null  object \n",
      " 3   scheduled_day    110527 non-null  object \n",
      " 4   appointment_day  110527 non-null  object \n",
      " 5   age              110527 non-null  int64  \n",
      " 6   neighbourhood    110527 non-null  object \n",
      " 7   scholarship      110527 non-null  int64  \n",
      " 8   hypertension     110527 non-null  int64  \n",
      " 9   diabetes         110527 non-null  int64  \n",
      " 10  alcoholism       110527 non-null  int64  \n",
      " 11  handicap         110527 non-null  int64  \n",
      " 12  SMS_received     110527 non-null  int64  \n",
      " 13  no_show          110527 non-null  object \n",
      "dtypes: float64(1), int64(8), object(5)\n",
      "memory usage: 11.8+ MB\n"
     ]
    }
   ],
   "source": [
    "# To get summary of information presented in the dataset\n",
    "df.info()"
   ]
  },
  {
   "cell_type": "markdown",
   "id": "1c98a5e8",
   "metadata": {},
   "source": [
    "The above output shows the summary of information present in the dataset. Next we are going to scout for any unique value."
   ]
  },
  {
   "cell_type": "code",
   "execution_count": 9,
   "id": "ea523ef4",
   "metadata": {},
   "outputs": [
    {
     "data": {
      "text/plain": [
       "array(['F', 'M'], dtype=object)"
      ]
     },
     "execution_count": 9,
     "metadata": {},
     "output_type": "execute_result"
    }
   ],
   "source": [
    "# To check for unique value in gender\n",
    "df.gender.unique()"
   ]
  },
  {
   "cell_type": "code",
   "execution_count": 10,
   "id": "ff3b46ed",
   "metadata": {},
   "outputs": [
    {
     "data": {
      "text/plain": [
       "array([ 62,  56,   8,  76,  23,  39,  21,  19,  30,  29,  22,  28,  54,\n",
       "        15,  50,  40,  46,   4,  13,  65,  45,  51,  32,  12,  61,  38,\n",
       "        79,  18,  63,  64,  85,  59,  55,  71,  49,  78,  31,  58,  27,\n",
       "         6,   2,  11,   7,   0,   3,   1,  69,  68,  60,  67,  36,  10,\n",
       "        35,  20,  26,  34,  33,  16,  42,   5,  47,  17,  41,  44,  37,\n",
       "        24,  66,  77,  81,  70,  53,  75,  73,  52,  74,  43,  89,  57,\n",
       "        14,   9,  48,  83,  72,  25,  80,  87,  88,  84,  82,  90,  94,\n",
       "        86,  91,  98,  92,  96,  93,  95,  97, 102, 115, 100,  99,  -1],\n",
       "      dtype=int64)"
      ]
     },
     "execution_count": 10,
     "metadata": {},
     "output_type": "execute_result"
    }
   ],
   "source": [
    "df.age.unique()"
   ]
  },
  {
   "cell_type": "markdown",
   "id": "fe449d9c",
   "metadata": {},
   "source": [
    "There seems to be an incorrect input for age (-1). We will deal with this incorrect input soon."
   ]
  },
  {
   "cell_type": "code",
   "execution_count": 11,
   "id": "e8dafb8f",
   "metadata": {},
   "outputs": [
    {
     "data": {
      "text/plain": [
       "array([0, 1], dtype=int64)"
      ]
     },
     "execution_count": 11,
     "metadata": {},
     "output_type": "execute_result"
    }
   ],
   "source": [
    "# To check for unique value in scholarship\n",
    "df.scholarship.unique()"
   ]
  },
  {
   "cell_type": "code",
   "execution_count": 12,
   "id": "d3c454a9",
   "metadata": {},
   "outputs": [
    {
     "data": {
      "text/plain": [
       "array([0, 1], dtype=int64)"
      ]
     },
     "execution_count": 12,
     "metadata": {},
     "output_type": "execute_result"
    }
   ],
   "source": [
    "# To check for unique value in SMS received\n",
    "df.SMS_received.unique()"
   ]
  },
  {
   "cell_type": "code",
   "execution_count": 13,
   "id": "847edcfc",
   "metadata": {},
   "outputs": [
    {
     "data": {
      "text/html": [
       "<div>\n",
       "<style scoped>\n",
       "    .dataframe tbody tr th:only-of-type {\n",
       "        vertical-align: middle;\n",
       "    }\n",
       "\n",
       "    .dataframe tbody tr th {\n",
       "        vertical-align: top;\n",
       "    }\n",
       "\n",
       "    .dataframe thead th {\n",
       "        text-align: right;\n",
       "    }\n",
       "</style>\n",
       "<table border=\"1\" class=\"dataframe\">\n",
       "  <thead>\n",
       "    <tr style=\"text-align: right;\">\n",
       "      <th></th>\n",
       "      <th>patient_ID</th>\n",
       "      <th>appointment_ID</th>\n",
       "      <th>age</th>\n",
       "      <th>scholarship</th>\n",
       "      <th>hypertension</th>\n",
       "      <th>diabetes</th>\n",
       "      <th>alcoholism</th>\n",
       "      <th>handicap</th>\n",
       "      <th>SMS_received</th>\n",
       "    </tr>\n",
       "  </thead>\n",
       "  <tbody>\n",
       "    <tr>\n",
       "      <th>count</th>\n",
       "      <td>1.105270e+05</td>\n",
       "      <td>1.105270e+05</td>\n",
       "      <td>110527.000000</td>\n",
       "      <td>110527.000000</td>\n",
       "      <td>110527.000000</td>\n",
       "      <td>110527.000000</td>\n",
       "      <td>110527.000000</td>\n",
       "      <td>110527.000000</td>\n",
       "      <td>110527.000000</td>\n",
       "    </tr>\n",
       "    <tr>\n",
       "      <th>mean</th>\n",
       "      <td>1.474963e+14</td>\n",
       "      <td>5.675305e+06</td>\n",
       "      <td>37.088874</td>\n",
       "      <td>0.098266</td>\n",
       "      <td>0.197246</td>\n",
       "      <td>0.071865</td>\n",
       "      <td>0.030400</td>\n",
       "      <td>0.022248</td>\n",
       "      <td>0.321026</td>\n",
       "    </tr>\n",
       "    <tr>\n",
       "      <th>std</th>\n",
       "      <td>2.560949e+14</td>\n",
       "      <td>7.129575e+04</td>\n",
       "      <td>23.110205</td>\n",
       "      <td>0.297675</td>\n",
       "      <td>0.397921</td>\n",
       "      <td>0.258265</td>\n",
       "      <td>0.171686</td>\n",
       "      <td>0.161543</td>\n",
       "      <td>0.466873</td>\n",
       "    </tr>\n",
       "    <tr>\n",
       "      <th>min</th>\n",
       "      <td>3.921784e+04</td>\n",
       "      <td>5.030230e+06</td>\n",
       "      <td>-1.000000</td>\n",
       "      <td>0.000000</td>\n",
       "      <td>0.000000</td>\n",
       "      <td>0.000000</td>\n",
       "      <td>0.000000</td>\n",
       "      <td>0.000000</td>\n",
       "      <td>0.000000</td>\n",
       "    </tr>\n",
       "    <tr>\n",
       "      <th>25%</th>\n",
       "      <td>4.172614e+12</td>\n",
       "      <td>5.640286e+06</td>\n",
       "      <td>18.000000</td>\n",
       "      <td>0.000000</td>\n",
       "      <td>0.000000</td>\n",
       "      <td>0.000000</td>\n",
       "      <td>0.000000</td>\n",
       "      <td>0.000000</td>\n",
       "      <td>0.000000</td>\n",
       "    </tr>\n",
       "    <tr>\n",
       "      <th>50%</th>\n",
       "      <td>3.173184e+13</td>\n",
       "      <td>5.680573e+06</td>\n",
       "      <td>37.000000</td>\n",
       "      <td>0.000000</td>\n",
       "      <td>0.000000</td>\n",
       "      <td>0.000000</td>\n",
       "      <td>0.000000</td>\n",
       "      <td>0.000000</td>\n",
       "      <td>0.000000</td>\n",
       "    </tr>\n",
       "    <tr>\n",
       "      <th>75%</th>\n",
       "      <td>9.439172e+13</td>\n",
       "      <td>5.725524e+06</td>\n",
       "      <td>55.000000</td>\n",
       "      <td>0.000000</td>\n",
       "      <td>0.000000</td>\n",
       "      <td>0.000000</td>\n",
       "      <td>0.000000</td>\n",
       "      <td>0.000000</td>\n",
       "      <td>1.000000</td>\n",
       "    </tr>\n",
       "    <tr>\n",
       "      <th>max</th>\n",
       "      <td>9.999816e+14</td>\n",
       "      <td>5.790484e+06</td>\n",
       "      <td>115.000000</td>\n",
       "      <td>1.000000</td>\n",
       "      <td>1.000000</td>\n",
       "      <td>1.000000</td>\n",
       "      <td>1.000000</td>\n",
       "      <td>4.000000</td>\n",
       "      <td>1.000000</td>\n",
       "    </tr>\n",
       "  </tbody>\n",
       "</table>\n",
       "</div>"
      ],
      "text/plain": [
       "         patient_ID  appointment_ID            age    scholarship  \\\n",
       "count  1.105270e+05    1.105270e+05  110527.000000  110527.000000   \n",
       "mean   1.474963e+14    5.675305e+06      37.088874       0.098266   \n",
       "std    2.560949e+14    7.129575e+04      23.110205       0.297675   \n",
       "min    3.921784e+04    5.030230e+06      -1.000000       0.000000   \n",
       "25%    4.172614e+12    5.640286e+06      18.000000       0.000000   \n",
       "50%    3.173184e+13    5.680573e+06      37.000000       0.000000   \n",
       "75%    9.439172e+13    5.725524e+06      55.000000       0.000000   \n",
       "max    9.999816e+14    5.790484e+06     115.000000       1.000000   \n",
       "\n",
       "        hypertension       diabetes     alcoholism       handicap  \\\n",
       "count  110527.000000  110527.000000  110527.000000  110527.000000   \n",
       "mean        0.197246       0.071865       0.030400       0.022248   \n",
       "std         0.397921       0.258265       0.171686       0.161543   \n",
       "min         0.000000       0.000000       0.000000       0.000000   \n",
       "25%         0.000000       0.000000       0.000000       0.000000   \n",
       "50%         0.000000       0.000000       0.000000       0.000000   \n",
       "75%         0.000000       0.000000       0.000000       0.000000   \n",
       "max         1.000000       1.000000       1.000000       4.000000   \n",
       "\n",
       "        SMS_received  \n",
       "count  110527.000000  \n",
       "mean        0.321026  \n",
       "std         0.466873  \n",
       "min         0.000000  \n",
       "25%         0.000000  \n",
       "50%         0.000000  \n",
       "75%         1.000000  \n",
       "max         1.000000  "
      ]
     },
     "execution_count": 13,
     "metadata": {},
     "output_type": "execute_result"
    }
   ],
   "source": [
    "# To check for description of the dataset\n",
    "df.describe()"
   ]
  },
  {
   "cell_type": "markdown",
   "id": "ff76be51",
   "metadata": {},
   "source": [
    "## Data Cleaning"
   ]
  },
  {
   "cell_type": "code",
   "execution_count": 14,
   "id": "0599cc6a",
   "metadata": {},
   "outputs": [],
   "source": [
    "# Deal with incorrect datatype, convert patient_ID and appointment_ID to strings\n",
    "df.patient_ID = df.patient_ID.astype(str)\n",
    "df.appointment_ID = df.appointment_ID.astype(str)"
   ]
  },
  {
   "cell_type": "code",
   "execution_count": 15,
   "id": "9e60225a",
   "metadata": {},
   "outputs": [
    {
     "data": {
      "text/plain": [
       "str"
      ]
     },
     "execution_count": 15,
     "metadata": {},
     "output_type": "execute_result"
    }
   ],
   "source": [
    "type(df.patient_ID[0] )"
   ]
  },
  {
   "cell_type": "code",
   "execution_count": 16,
   "id": "c13c5f54",
   "metadata": {},
   "outputs": [
    {
     "data": {
      "text/plain": [
       "str"
      ]
     },
     "execution_count": 16,
     "metadata": {},
     "output_type": "execute_result"
    }
   ],
   "source": [
    "type(df.appointment_ID[0])"
   ]
  },
  {
   "cell_type": "markdown",
   "id": "4dc4e9f4",
   "metadata": {},
   "source": [
    "We have successfully converted patient ID and appointment ID to string, next we will be converting schedule day and appointment day to datetime."
   ]
  },
  {
   "cell_type": "code",
   "execution_count": 17,
   "id": "0fd315e5",
   "metadata": {},
   "outputs": [],
   "source": [
    "# Convert scheduled_day and appointment_day to datetime\n",
    "df.scheduled_day = pd.to_datetime(df.scheduled_day)\n",
    "df.appointment_day = pd.to_datetime(df.appointment_day)"
   ]
  },
  {
   "cell_type": "code",
   "execution_count": 18,
   "id": "49c31e43",
   "metadata": {},
   "outputs": [
    {
     "data": {
      "text/plain": [
       "pandas._libs.tslibs.timestamps.Timestamp"
      ]
     },
     "execution_count": 18,
     "metadata": {},
     "output_type": "execute_result"
    }
   ],
   "source": [
    "type(df.scheduled_day[0])"
   ]
  },
  {
   "cell_type": "code",
   "execution_count": 19,
   "id": "1657097f",
   "metadata": {},
   "outputs": [
    {
     "name": "stdout",
     "output_type": "stream",
     "text": [
      "<class 'pandas.core.frame.DataFrame'>\n",
      "RangeIndex: 110527 entries, 0 to 110526\n",
      "Data columns (total 14 columns):\n",
      " #   Column           Non-Null Count   Dtype              \n",
      "---  ------           --------------   -----              \n",
      " 0   patient_ID       110527 non-null  object             \n",
      " 1   appointment_ID   110527 non-null  object             \n",
      " 2   gender           110527 non-null  object             \n",
      " 3   scheduled_day    110527 non-null  datetime64[ns, UTC]\n",
      " 4   appointment_day  110527 non-null  datetime64[ns, UTC]\n",
      " 5   age              110527 non-null  int64              \n",
      " 6   neighbourhood    110527 non-null  object             \n",
      " 7   scholarship      110527 non-null  int64              \n",
      " 8   hypertension     110527 non-null  int64              \n",
      " 9   diabetes         110527 non-null  int64              \n",
      " 10  alcoholism       110527 non-null  int64              \n",
      " 11  handicap         110527 non-null  int64              \n",
      " 12  SMS_received     110527 non-null  int64              \n",
      " 13  no_show          110527 non-null  object             \n",
      "dtypes: datetime64[ns, UTC](2), int64(7), object(5)\n",
      "memory usage: 11.8+ MB\n"
     ]
    }
   ],
   "source": [
    "df.info()"
   ]
  },
  {
   "cell_type": "markdown",
   "id": "05664c18",
   "metadata": {},
   "source": [
    "Now we have successfully converted scheduled day and appointment day to datetime. Next, we would be dealing with the incorrect input in age."
   ]
  },
  {
   "cell_type": "code",
   "execution_count": 20,
   "id": "005c06b4",
   "metadata": {},
   "outputs": [],
   "source": [
    "# we have one incorrect input for age since it is just one input, we can safely drop that row\n",
    "# drop row with age = -1\n",
    "df = df.loc[df.age != -1]"
   ]
  },
  {
   "cell_type": "code",
   "execution_count": 21,
   "id": "474e8974",
   "metadata": {},
   "outputs": [
    {
     "data": {
      "text/html": [
       "<div>\n",
       "<style scoped>\n",
       "    .dataframe tbody tr th:only-of-type {\n",
       "        vertical-align: middle;\n",
       "    }\n",
       "\n",
       "    .dataframe tbody tr th {\n",
       "        vertical-align: top;\n",
       "    }\n",
       "\n",
       "    .dataframe thead th {\n",
       "        text-align: right;\n",
       "    }\n",
       "</style>\n",
       "<table border=\"1\" class=\"dataframe\">\n",
       "  <thead>\n",
       "    <tr style=\"text-align: right;\">\n",
       "      <th></th>\n",
       "      <th>patient_ID</th>\n",
       "      <th>appointment_ID</th>\n",
       "      <th>gender</th>\n",
       "      <th>scheduled_day</th>\n",
       "      <th>appointment_day</th>\n",
       "      <th>age</th>\n",
       "      <th>neighbourhood</th>\n",
       "      <th>scholarship</th>\n",
       "      <th>hypertension</th>\n",
       "      <th>diabetes</th>\n",
       "      <th>alcoholism</th>\n",
       "      <th>handicap</th>\n",
       "      <th>SMS_received</th>\n",
       "      <th>no_show</th>\n",
       "    </tr>\n",
       "  </thead>\n",
       "  <tbody>\n",
       "  </tbody>\n",
       "</table>\n",
       "</div>"
      ],
      "text/plain": [
       "Empty DataFrame\n",
       "Columns: [patient_ID, appointment_ID, gender, scheduled_day, appointment_day, age, neighbourhood, scholarship, hypertension, diabetes, alcoholism, handicap, SMS_received, no_show]\n",
       "Index: []"
      ]
     },
     "execution_count": 21,
     "metadata": {},
     "output_type": "execute_result"
    }
   ],
   "source": [
    "df.loc[df.age == -1]"
   ]
  },
  {
   "cell_type": "code",
   "execution_count": 22,
   "id": "a3e7c8c3",
   "metadata": {},
   "outputs": [
    {
     "data": {
      "text/html": [
       "<div>\n",
       "<style scoped>\n",
       "    .dataframe tbody tr th:only-of-type {\n",
       "        vertical-align: middle;\n",
       "    }\n",
       "\n",
       "    .dataframe tbody tr th {\n",
       "        vertical-align: top;\n",
       "    }\n",
       "\n",
       "    .dataframe thead th {\n",
       "        text-align: right;\n",
       "    }\n",
       "</style>\n",
       "<table border=\"1\" class=\"dataframe\">\n",
       "  <thead>\n",
       "    <tr style=\"text-align: right;\">\n",
       "      <th></th>\n",
       "      <th>patient_ID</th>\n",
       "      <th>appointment_ID</th>\n",
       "      <th>gender</th>\n",
       "      <th>scheduled_day</th>\n",
       "      <th>appointment_day</th>\n",
       "      <th>age</th>\n",
       "      <th>neighbourhood</th>\n",
       "      <th>scholarship</th>\n",
       "      <th>hypertension</th>\n",
       "      <th>diabetes</th>\n",
       "      <th>alcoholism</th>\n",
       "      <th>handicap</th>\n",
       "      <th>SMS_received</th>\n",
       "      <th>no_show</th>\n",
       "    </tr>\n",
       "  </thead>\n",
       "  <tbody>\n",
       "    <tr>\n",
       "      <th>102573</th>\n",
       "      <td>3571437593233.0</td>\n",
       "      <td>5755031</td>\n",
       "      <td>F</td>\n",
       "      <td>2016-06-01 06:55:46+00:00</td>\n",
       "      <td>2016-06-06 00:00:00+00:00</td>\n",
       "      <td>70</td>\n",
       "      <td>REDENÇÃO</td>\n",
       "      <td>0</td>\n",
       "      <td>1</td>\n",
       "      <td>0</td>\n",
       "      <td>0</td>\n",
       "      <td>0</td>\n",
       "      <td>1</td>\n",
       "      <td>No</td>\n",
       "    </tr>\n",
       "    <tr>\n",
       "      <th>10616</th>\n",
       "      <td>2297846236449.0</td>\n",
       "      <td>5561594</td>\n",
       "      <td>F</td>\n",
       "      <td>2016-04-08 10:54:15+00:00</td>\n",
       "      <td>2016-05-03 00:00:00+00:00</td>\n",
       "      <td>1</td>\n",
       "      <td>CRUZAMENTO</td>\n",
       "      <td>0</td>\n",
       "      <td>0</td>\n",
       "      <td>0</td>\n",
       "      <td>0</td>\n",
       "      <td>0</td>\n",
       "      <td>1</td>\n",
       "      <td>Yes</td>\n",
       "    </tr>\n",
       "    <tr>\n",
       "      <th>74808</th>\n",
       "      <td>9512965898156.0</td>\n",
       "      <td>5631864</td>\n",
       "      <td>F</td>\n",
       "      <td>2016-04-28 07:30:10+00:00</td>\n",
       "      <td>2016-05-10 00:00:00+00:00</td>\n",
       "      <td>16</td>\n",
       "      <td>SANTOS REIS</td>\n",
       "      <td>1</td>\n",
       "      <td>0</td>\n",
       "      <td>0</td>\n",
       "      <td>0</td>\n",
       "      <td>0</td>\n",
       "      <td>1</td>\n",
       "      <td>No</td>\n",
       "    </tr>\n",
       "    <tr>\n",
       "      <th>83682</th>\n",
       "      <td>9728913684667.0</td>\n",
       "      <td>5566252</td>\n",
       "      <td>F</td>\n",
       "      <td>2016-04-11 10:08:06+00:00</td>\n",
       "      <td>2016-05-09 00:00:00+00:00</td>\n",
       "      <td>74</td>\n",
       "      <td>ITARARÉ</td>\n",
       "      <td>0</td>\n",
       "      <td>1</td>\n",
       "      <td>1</td>\n",
       "      <td>0</td>\n",
       "      <td>0</td>\n",
       "      <td>0</td>\n",
       "      <td>Yes</td>\n",
       "    </tr>\n",
       "    <tr>\n",
       "      <th>51982</th>\n",
       "      <td>18935338154566.0</td>\n",
       "      <td>5698571</td>\n",
       "      <td>F</td>\n",
       "      <td>2016-05-16 07:40:57+00:00</td>\n",
       "      <td>2016-05-17 00:00:00+00:00</td>\n",
       "      <td>41</td>\n",
       "      <td>BELA VISTA</td>\n",
       "      <td>1</td>\n",
       "      <td>0</td>\n",
       "      <td>0</td>\n",
       "      <td>0</td>\n",
       "      <td>0</td>\n",
       "      <td>0</td>\n",
       "      <td>No</td>\n",
       "    </tr>\n",
       "    <tr>\n",
       "      <th>45877</th>\n",
       "      <td>61661159675371.0</td>\n",
       "      <td>5617225</td>\n",
       "      <td>M</td>\n",
       "      <td>2016-04-25 15:40:56+00:00</td>\n",
       "      <td>2016-05-06 00:00:00+00:00</td>\n",
       "      <td>7</td>\n",
       "      <td>PARQUE MOSCOSO</td>\n",
       "      <td>0</td>\n",
       "      <td>0</td>\n",
       "      <td>0</td>\n",
       "      <td>0</td>\n",
       "      <td>0</td>\n",
       "      <td>1</td>\n",
       "      <td>No</td>\n",
       "    </tr>\n",
       "    <tr>\n",
       "      <th>92089</th>\n",
       "      <td>94847897587496.0</td>\n",
       "      <td>5770231</td>\n",
       "      <td>M</td>\n",
       "      <td>2016-06-03 09:56:13+00:00</td>\n",
       "      <td>2016-06-03 00:00:00+00:00</td>\n",
       "      <td>10</td>\n",
       "      <td>PRAIA DO SUÁ</td>\n",
       "      <td>0</td>\n",
       "      <td>0</td>\n",
       "      <td>0</td>\n",
       "      <td>0</td>\n",
       "      <td>0</td>\n",
       "      <td>0</td>\n",
       "      <td>No</td>\n",
       "    </tr>\n",
       "    <tr>\n",
       "      <th>24493</th>\n",
       "      <td>78467943748898.0</td>\n",
       "      <td>5688520</td>\n",
       "      <td>F</td>\n",
       "      <td>2016-05-12 07:26:50+00:00</td>\n",
       "      <td>2016-05-16 00:00:00+00:00</td>\n",
       "      <td>30</td>\n",
       "      <td>JARDIM CAMBURI</td>\n",
       "      <td>0</td>\n",
       "      <td>0</td>\n",
       "      <td>0</td>\n",
       "      <td>0</td>\n",
       "      <td>0</td>\n",
       "      <td>0</td>\n",
       "      <td>No</td>\n",
       "    </tr>\n",
       "    <tr>\n",
       "      <th>32944</th>\n",
       "      <td>41395359217647.0</td>\n",
       "      <td>5576975</td>\n",
       "      <td>F</td>\n",
       "      <td>2016-04-13 09:16:40+00:00</td>\n",
       "      <td>2016-05-05 00:00:00+00:00</td>\n",
       "      <td>0</td>\n",
       "      <td>PRAIA DO SUÁ</td>\n",
       "      <td>0</td>\n",
       "      <td>0</td>\n",
       "      <td>0</td>\n",
       "      <td>0</td>\n",
       "      <td>0</td>\n",
       "      <td>1</td>\n",
       "      <td>Yes</td>\n",
       "    </tr>\n",
       "    <tr>\n",
       "      <th>64907</th>\n",
       "      <td>22975577295298.0</td>\n",
       "      <td>5470463</td>\n",
       "      <td>F</td>\n",
       "      <td>2016-03-15 10:34:49+00:00</td>\n",
       "      <td>2016-05-04 00:00:00+00:00</td>\n",
       "      <td>51</td>\n",
       "      <td>JARDIM CAMBURI</td>\n",
       "      <td>0</td>\n",
       "      <td>0</td>\n",
       "      <td>0</td>\n",
       "      <td>0</td>\n",
       "      <td>0</td>\n",
       "      <td>1</td>\n",
       "      <td>Yes</td>\n",
       "    </tr>\n",
       "  </tbody>\n",
       "</table>\n",
       "</div>"
      ],
      "text/plain": [
       "              patient_ID appointment_ID gender             scheduled_day  \\\n",
       "102573   3571437593233.0        5755031      F 2016-06-01 06:55:46+00:00   \n",
       "10616    2297846236449.0        5561594      F 2016-04-08 10:54:15+00:00   \n",
       "74808    9512965898156.0        5631864      F 2016-04-28 07:30:10+00:00   \n",
       "83682    9728913684667.0        5566252      F 2016-04-11 10:08:06+00:00   \n",
       "51982   18935338154566.0        5698571      F 2016-05-16 07:40:57+00:00   \n",
       "45877   61661159675371.0        5617225      M 2016-04-25 15:40:56+00:00   \n",
       "92089   94847897587496.0        5770231      M 2016-06-03 09:56:13+00:00   \n",
       "24493   78467943748898.0        5688520      F 2016-05-12 07:26:50+00:00   \n",
       "32944   41395359217647.0        5576975      F 2016-04-13 09:16:40+00:00   \n",
       "64907   22975577295298.0        5470463      F 2016-03-15 10:34:49+00:00   \n",
       "\n",
       "                 appointment_day  age   neighbourhood  scholarship  \\\n",
       "102573 2016-06-06 00:00:00+00:00   70        REDENÇÃO            0   \n",
       "10616  2016-05-03 00:00:00+00:00    1      CRUZAMENTO            0   \n",
       "74808  2016-05-10 00:00:00+00:00   16     SANTOS REIS            1   \n",
       "83682  2016-05-09 00:00:00+00:00   74         ITARARÉ            0   \n",
       "51982  2016-05-17 00:00:00+00:00   41      BELA VISTA            1   \n",
       "45877  2016-05-06 00:00:00+00:00    7  PARQUE MOSCOSO            0   \n",
       "92089  2016-06-03 00:00:00+00:00   10    PRAIA DO SUÁ            0   \n",
       "24493  2016-05-16 00:00:00+00:00   30  JARDIM CAMBURI            0   \n",
       "32944  2016-05-05 00:00:00+00:00    0    PRAIA DO SUÁ            0   \n",
       "64907  2016-05-04 00:00:00+00:00   51  JARDIM CAMBURI            0   \n",
       "\n",
       "        hypertension  diabetes  alcoholism  handicap  SMS_received no_show  \n",
       "102573             1         0           0         0             1      No  \n",
       "10616              0         0           0         0             1     Yes  \n",
       "74808              0         0           0         0             1      No  \n",
       "83682              1         1           0         0             0     Yes  \n",
       "51982              0         0           0         0             0      No  \n",
       "45877              0         0           0         0             1      No  \n",
       "92089              0         0           0         0             0      No  \n",
       "24493              0         0           0         0             0      No  \n",
       "32944              0         0           0         0             1     Yes  \n",
       "64907              0         0           0         0             1     Yes  "
      ]
     },
     "execution_count": 22,
     "metadata": {},
     "output_type": "execute_result"
    }
   ],
   "source": [
    "df.sample(10)"
   ]
  },
  {
   "cell_type": "markdown",
   "id": "9ffb5600",
   "metadata": {},
   "source": [
    "The incorrect input for age has been removed. Next, we are going to analyse and visualize our data."
   ]
  },
  {
   "cell_type": "markdown",
   "id": "60c695db",
   "metadata": {},
   "source": [
    "## Analysis and Visualization"
   ]
  },
  {
   "cell_type": "markdown",
   "id": "e2dfdabe",
   "metadata": {},
   "source": [
    "## Question 1 (Does 'Gender' affect whether or not patients will show up for an appointment?)"
   ]
  },
  {
   "cell_type": "code",
   "execution_count": 23,
   "id": "88746398",
   "metadata": {},
   "outputs": [],
   "source": [
    "def count_plot(x, title):\n",
    "    plt.figure(figsize=(10,8))\n",
    "    sns.countplot(data = df, hue = 'no_show', x = x).set(title = title)\n",
    "    "
   ]
  },
  {
   "cell_type": "code",
   "execution_count": 24,
   "id": "c91bbbc0",
   "metadata": {
    "scrolled": true
   },
   "outputs": [
    {
     "data": {
      "image/png": "[encoded data removed]",
      "text/plain": [
       "<Figure size 720x576 with 1 Axes>"
      ]
     },
     "metadata": {
      "needs_background": "light"
     },
     "output_type": "display_data"
    }
   ],
   "source": [
    "# To show the relationship between gender and not showing up for appointments\n",
    "count_plot('gender', 'A plot for gender')"
   ]
  },
  {
   "cell_type": "markdown",
   "id": "de718cb1",
   "metadata": {},
   "source": [
    "The count plot reveals that females are mostly booked for appointments and are most likely to show up. \n",
    "\n",
    "We would be investigating next if a particular day of the week affects the level of not showing up for appointments."
   ]
  },
  {
   "cell_type": "markdown",
   "id": "68006360",
   "metadata": {},
   "source": [
    "## Question 2 (will the 'Appointment Day' determine whether or not a patient will be present for his/her appointment?)"
   ]
  },
  {
   "cell_type": "code",
   "execution_count": 25,
   "id": "1fb91217",
   "metadata": {
    "scrolled": true
   },
   "outputs": [
    {
     "data": {
      "text/html": [
       "<div>\n",
       "<style scoped>\n",
       "    .dataframe tbody tr th:only-of-type {\n",
       "        vertical-align: middle;\n",
       "    }\n",
       "\n",
       "    .dataframe tbody tr th {\n",
       "        vertical-align: top;\n",
       "    }\n",
       "\n",
       "    .dataframe thead th {\n",
       "        text-align: right;\n",
       "    }\n",
       "</style>\n",
       "<table border=\"1\" class=\"dataframe\">\n",
       "  <thead>\n",
       "    <tr style=\"text-align: right;\">\n",
       "      <th></th>\n",
       "      <th>patient_ID</th>\n",
       "      <th>appointment_ID</th>\n",
       "      <th>gender</th>\n",
       "      <th>scheduled_day</th>\n",
       "      <th>appointment_day</th>\n",
       "      <th>age</th>\n",
       "      <th>neighbourhood</th>\n",
       "      <th>scholarship</th>\n",
       "      <th>hypertension</th>\n",
       "      <th>diabetes</th>\n",
       "      <th>alcoholism</th>\n",
       "      <th>handicap</th>\n",
       "      <th>SMS_received</th>\n",
       "      <th>no_show</th>\n",
       "      <th>appointment_week_day</th>\n",
       "    </tr>\n",
       "  </thead>\n",
       "  <tbody>\n",
       "    <tr>\n",
       "      <th>0</th>\n",
       "      <td>29872499824296.0</td>\n",
       "      <td>5642903</td>\n",
       "      <td>F</td>\n",
       "      <td>2016-04-29 18:38:08+00:00</td>\n",
       "      <td>2016-04-29 00:00:00+00:00</td>\n",
       "      <td>62</td>\n",
       "      <td>JARDIM DA PENHA</td>\n",
       "      <td>0</td>\n",
       "      <td>1</td>\n",
       "      <td>0</td>\n",
       "      <td>0</td>\n",
       "      <td>0</td>\n",
       "      <td>0</td>\n",
       "      <td>No</td>\n",
       "      <td>Friday</td>\n",
       "    </tr>\n",
       "    <tr>\n",
       "      <th>1</th>\n",
       "      <td>558997776694438.0</td>\n",
       "      <td>5642503</td>\n",
       "      <td>M</td>\n",
       "      <td>2016-04-29 16:08:27+00:00</td>\n",
       "      <td>2016-04-29 00:00:00+00:00</td>\n",
       "      <td>56</td>\n",
       "      <td>JARDIM DA PENHA</td>\n",
       "      <td>0</td>\n",
       "      <td>0</td>\n",
       "      <td>0</td>\n",
       "      <td>0</td>\n",
       "      <td>0</td>\n",
       "      <td>0</td>\n",
       "      <td>No</td>\n",
       "      <td>Friday</td>\n",
       "    </tr>\n",
       "    <tr>\n",
       "      <th>2</th>\n",
       "      <td>4262962299951.0</td>\n",
       "      <td>5642549</td>\n",
       "      <td>F</td>\n",
       "      <td>2016-04-29 16:19:04+00:00</td>\n",
       "      <td>2016-04-29 00:00:00+00:00</td>\n",
       "      <td>62</td>\n",
       "      <td>MATA DA PRAIA</td>\n",
       "      <td>0</td>\n",
       "      <td>0</td>\n",
       "      <td>0</td>\n",
       "      <td>0</td>\n",
       "      <td>0</td>\n",
       "      <td>0</td>\n",
       "      <td>No</td>\n",
       "      <td>Friday</td>\n",
       "    </tr>\n",
       "    <tr>\n",
       "      <th>3</th>\n",
       "      <td>867951213174.0</td>\n",
       "      <td>5642828</td>\n",
       "      <td>F</td>\n",
       "      <td>2016-04-29 17:29:31+00:00</td>\n",
       "      <td>2016-04-29 00:00:00+00:00</td>\n",
       "      <td>8</td>\n",
       "      <td>PONTAL DE CAMBURI</td>\n",
       "      <td>0</td>\n",
       "      <td>0</td>\n",
       "      <td>0</td>\n",
       "      <td>0</td>\n",
       "      <td>0</td>\n",
       "      <td>0</td>\n",
       "      <td>No</td>\n",
       "      <td>Friday</td>\n",
       "    </tr>\n",
       "    <tr>\n",
       "      <th>4</th>\n",
       "      <td>8841186448183.0</td>\n",
       "      <td>5642494</td>\n",
       "      <td>F</td>\n",
       "      <td>2016-04-29 16:07:23+00:00</td>\n",
       "      <td>2016-04-29 00:00:00+00:00</td>\n",
       "      <td>56</td>\n",
       "      <td>JARDIM DA PENHA</td>\n",
       "      <td>0</td>\n",
       "      <td>1</td>\n",
       "      <td>1</td>\n",
       "      <td>0</td>\n",
       "      <td>0</td>\n",
       "      <td>0</td>\n",
       "      <td>No</td>\n",
       "      <td>Friday</td>\n",
       "    </tr>\n",
       "  </tbody>\n",
       "</table>\n",
       "</div>"
      ],
      "text/plain": [
       "          patient_ID appointment_ID gender             scheduled_day  \\\n",
       "0   29872499824296.0        5642903      F 2016-04-29 18:38:08+00:00   \n",
       "1  558997776694438.0        5642503      M 2016-04-29 16:08:27+00:00   \n",
       "2    4262962299951.0        5642549      F 2016-04-29 16:19:04+00:00   \n",
       "3     867951213174.0        5642828      F 2016-04-29 17:29:31+00:00   \n",
       "4    8841186448183.0        5642494      F 2016-04-29 16:07:23+00:00   \n",
       "\n",
       "            appointment_day  age      neighbourhood  scholarship  \\\n",
       "0 2016-04-29 00:00:00+00:00   62    JARDIM DA PENHA            0   \n",
       "1 2016-04-29 00:00:00+00:00   56    JARDIM DA PENHA            0   \n",
       "2 2016-04-29 00:00:00+00:00   62      MATA DA PRAIA            0   \n",
       "3 2016-04-29 00:00:00+00:00    8  PONTAL DE CAMBURI            0   \n",
       "4 2016-04-29 00:00:00+00:00   56    JARDIM DA PENHA            0   \n",
       "\n",
       "   hypertension  diabetes  alcoholism  handicap  SMS_received no_show  \\\n",
       "0             1         0           0         0             0      No   \n",
       "1             0         0           0         0             0      No   \n",
       "2             0         0           0         0             0      No   \n",
       "3             0         0           0         0             0      No   \n",
       "4             1         1           0         0             0      No   \n",
       "\n",
       "  appointment_week_day  \n",
       "0               Friday  \n",
       "1               Friday  \n",
       "2               Friday  \n",
       "3               Friday  \n",
       "4               Friday  "
      ]
     },
     "execution_count": 25,
     "metadata": {},
     "output_type": "execute_result"
    }
   ],
   "source": [
    "# To add a new column for appointment_week_day in relationship with appointment_day\n",
    "df['appointment_week_day'] = df.appointment_day.dt.day_name()\n",
    "df.head()"
   ]
  },
  {
   "cell_type": "code",
   "execution_count": 26,
   "id": "4ee1cbdf",
   "metadata": {},
   "outputs": [
    {
     "data": {
      "image/png": "[encoded data removed]",
      "text/plain": [
       "<Figure size 720x576 with 1 Axes>"
      ]
     },
     "metadata": {
      "needs_background": "light"
     },
     "output_type": "display_data"
    }
   ],
   "source": [
    "# To show if particular days of the week affect no show for an appointment\n",
    "count_plot('appointment_week_day', 'A plot of appointment_week_day')"
   ]
  },
  {
   "cell_type": "markdown",
   "id": "355c2f39",
   "metadata": {},
   "source": [
    "The count plot shows that more patients' appointments are booked on Tuesday and Wednesday. Also, patients tend to show up more on these days. The day of the week with no show up at all is Saturday. Next, we would be categorising 'age' into different age groups for easy identification. "
   ]
  },
  {
   "cell_type": "markdown",
   "id": "11b6a32a",
   "metadata": {},
   "source": [
    "## Question 3 (will the 'Age' of a patient predict if they will show up for an appointment or not?)"
   ]
  },
  {
   "cell_type": "code",
   "execution_count": 27,
   "id": "84a077c3",
   "metadata": {
    "scrolled": true
   },
   "outputs": [
    {
     "data": {
      "text/html": [
       "<div>\n",
       "<style scoped>\n",
       "    .dataframe tbody tr th:only-of-type {\n",
       "        vertical-align: middle;\n",
       "    }\n",
       "\n",
       "    .dataframe tbody tr th {\n",
       "        vertical-align: top;\n",
       "    }\n",
       "\n",
       "    .dataframe thead th {\n",
       "        text-align: right;\n",
       "    }\n",
       "</style>\n",
       "<table border=\"1\" class=\"dataframe\">\n",
       "  <thead>\n",
       "    <tr style=\"text-align: right;\">\n",
       "      <th></th>\n",
       "      <th>patient_ID</th>\n",
       "      <th>appointment_ID</th>\n",
       "      <th>gender</th>\n",
       "      <th>scheduled_day</th>\n",
       "      <th>appointment_day</th>\n",
       "      <th>age</th>\n",
       "      <th>neighbourhood</th>\n",
       "      <th>scholarship</th>\n",
       "      <th>hypertension</th>\n",
       "      <th>diabetes</th>\n",
       "      <th>alcoholism</th>\n",
       "      <th>handicap</th>\n",
       "      <th>SMS_received</th>\n",
       "      <th>no_show</th>\n",
       "      <th>appointment_week_day</th>\n",
       "      <th>age_group</th>\n",
       "    </tr>\n",
       "  </thead>\n",
       "  <tbody>\n",
       "    <tr>\n",
       "      <th>0</th>\n",
       "      <td>29872499824296.0</td>\n",
       "      <td>5642903</td>\n",
       "      <td>F</td>\n",
       "      <td>2016-04-29 18:38:08+00:00</td>\n",
       "      <td>2016-04-29 00:00:00+00:00</td>\n",
       "      <td>62</td>\n",
       "      <td>JARDIM DA PENHA</td>\n",
       "      <td>0</td>\n",
       "      <td>1</td>\n",
       "      <td>0</td>\n",
       "      <td>0</td>\n",
       "      <td>0</td>\n",
       "      <td>0</td>\n",
       "      <td>No</td>\n",
       "      <td>Friday</td>\n",
       "      <td>Adult</td>\n",
       "    </tr>\n",
       "    <tr>\n",
       "      <th>1</th>\n",
       "      <td>558997776694438.0</td>\n",
       "      <td>5642503</td>\n",
       "      <td>M</td>\n",
       "      <td>2016-04-29 16:08:27+00:00</td>\n",
       "      <td>2016-04-29 00:00:00+00:00</td>\n",
       "      <td>56</td>\n",
       "      <td>JARDIM DA PENHA</td>\n",
       "      <td>0</td>\n",
       "      <td>0</td>\n",
       "      <td>0</td>\n",
       "      <td>0</td>\n",
       "      <td>0</td>\n",
       "      <td>0</td>\n",
       "      <td>No</td>\n",
       "      <td>Friday</td>\n",
       "      <td>Adult</td>\n",
       "    </tr>\n",
       "    <tr>\n",
       "      <th>2</th>\n",
       "      <td>4262962299951.0</td>\n",
       "      <td>5642549</td>\n",
       "      <td>F</td>\n",
       "      <td>2016-04-29 16:19:04+00:00</td>\n",
       "      <td>2016-04-29 00:00:00+00:00</td>\n",
       "      <td>62</td>\n",
       "      <td>MATA DA PRAIA</td>\n",
       "      <td>0</td>\n",
       "      <td>0</td>\n",
       "      <td>0</td>\n",
       "      <td>0</td>\n",
       "      <td>0</td>\n",
       "      <td>0</td>\n",
       "      <td>No</td>\n",
       "      <td>Friday</td>\n",
       "      <td>Adult</td>\n",
       "    </tr>\n",
       "    <tr>\n",
       "      <th>3</th>\n",
       "      <td>867951213174.0</td>\n",
       "      <td>5642828</td>\n",
       "      <td>F</td>\n",
       "      <td>2016-04-29 17:29:31+00:00</td>\n",
       "      <td>2016-04-29 00:00:00+00:00</td>\n",
       "      <td>8</td>\n",
       "      <td>PONTAL DE CAMBURI</td>\n",
       "      <td>0</td>\n",
       "      <td>0</td>\n",
       "      <td>0</td>\n",
       "      <td>0</td>\n",
       "      <td>0</td>\n",
       "      <td>0</td>\n",
       "      <td>No</td>\n",
       "      <td>Friday</td>\n",
       "      <td>Kid</td>\n",
       "    </tr>\n",
       "    <tr>\n",
       "      <th>4</th>\n",
       "      <td>8841186448183.0</td>\n",
       "      <td>5642494</td>\n",
       "      <td>F</td>\n",
       "      <td>2016-04-29 16:07:23+00:00</td>\n",
       "      <td>2016-04-29 00:00:00+00:00</td>\n",
       "      <td>56</td>\n",
       "      <td>JARDIM DA PENHA</td>\n",
       "      <td>0</td>\n",
       "      <td>1</td>\n",
       "      <td>1</td>\n",
       "      <td>0</td>\n",
       "      <td>0</td>\n",
       "      <td>0</td>\n",
       "      <td>No</td>\n",
       "      <td>Friday</td>\n",
       "      <td>Adult</td>\n",
       "    </tr>\n",
       "  </tbody>\n",
       "</table>\n",
       "</div>"
      ],
      "text/plain": [
       "          patient_ID appointment_ID gender             scheduled_day  \\\n",
       "0   29872499824296.0        5642903      F 2016-04-29 18:38:08+00:00   \n",
       "1  558997776694438.0        5642503      M 2016-04-29 16:08:27+00:00   \n",
       "2    4262962299951.0        5642549      F 2016-04-29 16:19:04+00:00   \n",
       "3     867951213174.0        5642828      F 2016-04-29 17:29:31+00:00   \n",
       "4    8841186448183.0        5642494      F 2016-04-29 16:07:23+00:00   \n",
       "\n",
       "            appointment_day  age      neighbourhood  scholarship  \\\n",
       "0 2016-04-29 00:00:00+00:00   62    JARDIM DA PENHA            0   \n",
       "1 2016-04-29 00:00:00+00:00   56    JARDIM DA PENHA            0   \n",
       "2 2016-04-29 00:00:00+00:00   62      MATA DA PRAIA            0   \n",
       "3 2016-04-29 00:00:00+00:00    8  PONTAL DE CAMBURI            0   \n",
       "4 2016-04-29 00:00:00+00:00   56    JARDIM DA PENHA            0   \n",
       "\n",
       "   hypertension  diabetes  alcoholism  handicap  SMS_received no_show  \\\n",
       "0             1         0           0         0             0      No   \n",
       "1             0         0           0         0             0      No   \n",
       "2             0         0           0         0             0      No   \n",
       "3             0         0           0         0             0      No   \n",
       "4             1         1           0         0             0      No   \n",
       "\n",
       "  appointment_week_day age_group  \n",
       "0               Friday     Adult  \n",
       "1               Friday     Adult  \n",
       "2               Friday     Adult  \n",
       "3               Friday       Kid  \n",
       "4               Friday     Adult  "
      ]
     },
     "execution_count": 27,
     "metadata": {},
     "output_type": "execute_result"
    }
   ],
   "source": [
    "bins= [0, 2, 4, 13, 20, 65, 120]\n",
    "labels = ['Infant', 'Toddler', 'Kid', 'Teen', 'Adult', 'Aged' ]\n",
    "df['age_group'] = pd.cut(df['age'], bins=bins, labels=labels, right=False)\n",
    "df.head()"
   ]
  },
  {
   "cell_type": "code",
   "execution_count": 28,
   "id": "b80810c7",
   "metadata": {},
   "outputs": [
    {
     "data": {
      "text/plain": [
       "['Adult', 'Kid', 'Aged', 'Teen', 'Toddler', 'Infant']\n",
       "Categories (6, object): ['Infant' < 'Toddler' < 'Kid' < 'Teen' < 'Adult' < 'Aged']"
      ]
     },
     "execution_count": 28,
     "metadata": {},
     "output_type": "execute_result"
    }
   ],
   "source": [
    "df.age_group.unique()"
   ]
  },
  {
   "cell_type": "code",
   "execution_count": 29,
   "id": "8e9fffc3",
   "metadata": {
    "scrolled": false
   },
   "outputs": [
    {
     "data": {
      "text/plain": [
       "<AxesSubplot:xlabel='age_group', ylabel='Count'>"
      ]
     },
     "execution_count": 29,
     "metadata": {},
     "output_type": "execute_result"
    },
    {
     "data": {
      "image/png": "[encoded data removed]",
      "text/plain": [
       "<Figure size 432x288 with 1 Axes>"
      ]
     },
     "metadata": {
      "needs_background": "light"
     },
     "output_type": "display_data"
    }
   ],
   "source": [
    "sns.histplot(data= df, x = df.age_group)"
   ]
  },
  {
   "cell_type": "code",
   "execution_count": 30,
   "id": "e0db5a38",
   "metadata": {},
   "outputs": [
    {
     "data": {
      "text/plain": [
       "Adult      65713\n",
       "Aged       14402\n",
       "Kid        12093\n",
       "Teen        9375\n",
       "Infant      5812\n",
       "Toddler     3131\n",
       "Name: age_group, dtype: int64"
      ]
     },
     "execution_count": 30,
     "metadata": {},
     "output_type": "execute_result"
    }
   ],
   "source": [
    "age_group = df.age_group.value_counts()\n",
    "age_group"
   ]
  },
  {
   "cell_type": "code",
   "execution_count": 31,
   "id": "1a45eae7",
   "metadata": {},
   "outputs": [
    {
     "data": {
      "text/plain": [
       "CategoricalIndex(['Adult', 'Aged', 'Kid', 'Teen', 'Infant', 'Toddler'], categories=['Infant', 'Toddler', 'Kid', 'Teen', 'Adult', 'Aged'], ordered=True, dtype='category')"
      ]
     },
     "execution_count": 31,
     "metadata": {},
     "output_type": "execute_result"
    }
   ],
   "source": [
    "age_group.index"
   ]
  },
  {
   "cell_type": "code",
   "execution_count": 32,
   "id": "62d13318",
   "metadata": {},
   "outputs": [
    {
     "data": {
      "image/png": "[encoded data removed]",
      "text/plain": [
       "<Figure size 504x504 with 1 Axes>"
      ]
     },
     "metadata": {},
     "output_type": "display_data"
    }
   ],
   "source": [
    "# To show the percentage of age group\n",
    "data = [65713, 14397, 12093, 9375, 5812, 3131]\n",
    "labels = ['Adults', 'Aged', 'Kid', 'Teen', 'Infant', 'Toddler']\n",
    "title = 'Percentage of Age group'\n",
    "plt.figure(figsize= (7,7))\n",
    "plt.title(title)\n",
    "plt.pie(x = data, labels = labels, autopct='%.0f%%')\n",
    "plt.show()"
   ]
  },
  {
   "cell_type": "code",
   "execution_count": 33,
   "id": "127524f0",
   "metadata": {},
   "outputs": [
    {
     "data": {
      "image/png": "[encoded data removed]",
      "text/plain": [
       "<Figure size 720x576 with 1 Axes>"
      ]
     },
     "metadata": {
      "needs_background": "light"
     },
     "output_type": "display_data"
    }
   ],
   "source": [
    "# To show if being under a particular age group affect showing up for an appointment\n",
    "count_plot('age_group', 'A plot of age_group')"
   ]
  },
  {
   "cell_type": "markdown",
   "id": "cb4dc473",
   "metadata": {},
   "source": [
    "A total of 59% of adults were booked for appointments and with the highest amount of show ups compared to the other other age groups. Kids and aged people had almost same percentage (11% and 13% respectively) with similar amount of no show ups. Teens, infants and toddlers seem to have the least amount of appointments and show up (8%, 5% and 3% respectively)."
   ]
  },
  {
   "cell_type": "markdown",
   "id": "3aa61bbf",
   "metadata": {},
   "source": [
    "## Question 4 (Does being under the \"Bolsa Familia\" scholarship affect whether or not a patient will show up for an appointment?)"
   ]
  },
  {
   "cell_type": "code",
   "execution_count": 34,
   "id": "61fa4b3d",
   "metadata": {},
   "outputs": [
    {
     "data": {
      "image/png": "[encoded data removed]",
      "text/plain": [
       "<Figure size 720x576 with 1 Axes>"
      ]
     },
     "metadata": {
      "needs_background": "light"
     },
     "output_type": "display_data"
    }
   ],
   "source": [
    "# To show if being under a scholarship or not affected showing up for an appointment\n",
    "count_plot('scholarship', 'A plot of patients under scholarship')"
   ]
  },
  {
   "cell_type": "markdown",
   "id": "2fc67469",
   "metadata": {},
   "source": [
    "Patients with no scholarship had more appointments and more show ups than patients under scholarship."
   ]
  },
  {
   "cell_type": "markdown",
   "id": "228f1892",
   "metadata": {},
   "source": [
    "## Question 5 (Is there a relationship between not receiving an SMS to missing an appointment?)"
   ]
  },
  {
   "cell_type": "code",
   "execution_count": 35,
   "id": "56fb90f4",
   "metadata": {},
   "outputs": [
    {
     "data": {
      "image/png": "[encoded data removed]",
      "text/plain": [
       "<Figure size 720x576 with 1 Axes>"
      ]
     },
     "metadata": {
      "needs_background": "light"
     },
     "output_type": "display_data"
    }
   ],
   "source": [
    "# To show the relationship between not receiving an SMS to no show for an appointment\n",
    "count_plot('SMS_received', 'A plot of SMS received')"
   ]
  },
  {
   "cell_type": "markdown",
   "id": "9a3e2d23",
   "metadata": {},
   "source": [
    "When compared to the total count of patients, less patients received SMS' for their appointments. Also, the show up for patients who did not receive SMS' tends to be more."
   ]
  },
  {
   "cell_type": "markdown",
   "id": "332ee432",
   "metadata": {},
   "source": [
    "## Question 6 ( Does being hypertensive and diabetic prevent a patient from showing up for an appointment?)"
   ]
  },
  {
   "cell_type": "code",
   "execution_count": 36,
   "id": "33c6fe7c",
   "metadata": {},
   "outputs": [
    {
     "data": {
      "image/png": "[encoded data removed]",
      "text/plain": [
       "<Figure size 720x576 with 1 Axes>"
      ]
     },
     "metadata": {
      "needs_background": "light"
     },
     "output_type": "display_data"
    }
   ],
   "source": [
    "# To show the effect of being hypertensive in response to appointments\n",
    "count_plot( 'hypertension', 'A plot of hypertensive patients')"
   ]
  },
  {
   "cell_type": "code",
   "execution_count": 37,
   "id": "8ace4240",
   "metadata": {},
   "outputs": [
    {
     "data": {
      "image/png": "[encoded data removed]",
      "text/plain": [
       "<Figure size 720x576 with 1 Axes>"
      ]
     },
     "metadata": {
      "needs_background": "light"
     },
     "output_type": "display_data"
    }
   ],
   "source": [
    "# To show the effect of being diabetic in response to appointments\n",
    "count_plot(x = 'diabetes',title = 'A plot of diabetic patients')"
   ]
  },
  {
   "cell_type": "markdown",
   "id": "3d4d0a12",
   "metadata": {},
   "source": [
    "## Question 7 (Will a handicapped patient find it difficult to show up for an appointment?)"
   ]
  },
  {
   "cell_type": "markdown",
   "id": "7cf20147",
   "metadata": {},
   "source": [
    "Patients who are not hypertensive and diabetic have largely to an extent more booked appointments than hypertensive and diabetic patients. "
   ]
  },
  {
   "cell_type": "code",
   "execution_count": 38,
   "id": "51f6635c",
   "metadata": {},
   "outputs": [
    {
     "data": {
      "image/png": "[encoded data removed]",
      "text/plain": [
       "<Figure size 720x576 with 1 Axes>"
      ]
     },
     "metadata": {
      "needs_background": "light"
     },
     "output_type": "display_data"
    }
   ],
   "source": [
    "# To show the effect of being handicapped in response to appointments\n",
    "count_plot('handicap','A plot of handicapped patients')"
   ]
  },
  {
   "cell_type": "markdown",
   "id": "bd7799df",
   "metadata": {},
   "source": [
    "The countplot shows that patients who are physically challenged (handicapped) had really low numbers of booked appointments proving that majority of the patients were not handicapped. "
   ]
  },
  {
   "cell_type": "markdown",
   "id": "8936a7e0",
   "metadata": {},
   "source": [
    "## Question 8 (Will being an alcoholic determine if a patient will show up for an appointment or not?)"
   ]
  },
  {
   "cell_type": "code",
   "execution_count": 39,
   "id": "55baf73d",
   "metadata": {},
   "outputs": [
    {
     "data": {
      "image/png": "[encoded data removed]",
      "text/plain": [
       "<Figure size 720x576 with 1 Axes>"
      ]
     },
     "metadata": {
      "needs_background": "light"
     },
     "output_type": "display_data"
    }
   ],
   "source": [
    "# To show the effect of being an alcoholic in response to appointments\n",
    "count_plot('alcoholism','A plot of alcoholic patients')"
   ]
  },
  {
   "cell_type": "markdown",
   "id": "6aa700a3",
   "metadata": {},
   "source": [
    "It would seem that very few alcoholic patients had appointments. Majority of the patients are non-alcoholics and have more show ups."
   ]
  },
  {
   "cell_type": "markdown",
   "id": "d20d00ed",
   "metadata": {},
   "source": [
    "## Finally we would be checking the general percentage of patients with \"no_shows\" and those who showed up for their appointment."
   ]
  },
  {
   "cell_type": "code",
   "execution_count": 40,
   "id": "90f00c0d",
   "metadata": {},
   "outputs": [
    {
     "data": {
      "text/plain": [
       "No     88207\n",
       "Yes    22319\n",
       "Name: no_show, dtype: int64"
      ]
     },
     "execution_count": 40,
     "metadata": {},
     "output_type": "execute_result"
    }
   ],
   "source": [
    "no_show = df.no_show.value_counts()\n",
    "no_show"
   ]
  },
  {
   "cell_type": "code",
   "execution_count": 41,
   "id": "c2039e89",
   "metadata": {},
   "outputs": [
    {
     "data": {
      "text/plain": [
       "Index(['No', 'Yes'], dtype='object')"
      ]
     },
     "execution_count": 41,
     "metadata": {},
     "output_type": "execute_result"
    }
   ],
   "source": [
    "no_show.index"
   ]
  },
  {
   "cell_type": "code",
   "execution_count": 42,
   "id": "8f28b765",
   "metadata": {},
   "outputs": [
    {
     "data": {
      "image/png": "[encoded data removed]",
      "text/plain": [
       "<Figure size 504x504 with 1 Axes>"
      ]
     },
     "metadata": {},
     "output_type": "display_data"
    }
   ],
   "source": [
    "# To show the percentage of patients who showed up for their appointment and those who didn't show up\n",
    "data = [88207, 22319]\n",
    "labels = ['No', 'Yes']\n",
    "title = 'Percentage of No show'\n",
    "plt.figure(figsize= (7,7))\n",
    "plt.title(title)\n",
    "plt.pie(x = data, labels = labels, autopct='%.0f%%')\n",
    "plt.show()"
   ]
  },
  {
   "cell_type": "markdown",
   "id": "f5b295ea",
   "metadata": {},
   "source": [
    "The pie chart above shows that a total of 80% of patients showed up for their appointment while 20% of the total patients given appointment did not show up for their appointment."
   ]
  },
  {
   "cell_type": "markdown",
   "id": "1bc26ced",
   "metadata": {},
   "source": [
    "## Conclusion"
   ]
  },
  {
   "cell_type": "markdown",
   "id": "847e4a8c",
   "metadata": {},
   "source": [
    "The Investigation of this dataset first show some basic facts about it; the data is clean to a large degree with no duplicate rows and missing values. Furthermore, some factors were used to consider the reason why patients might no show up for an appointment; these factors include: gender, appointment day, age, scholarship, SMS received, and if the patient is hypertensive, diabetic, handicapped or an alcoholic. All of these factors were considered as variables during analysis against the constant \"no show\" which gives the information about patients who showed up and those who didn't show up for thier appointments. Some of my findings are written below:\n",
    "\n",
    "1. A total number of 11,0527 patients data were collated; of these numbers, 8,8207 (80%) of the patients showed up for their appointment while 22319 (20%) didn't show up.\n",
    "2. Females are more likely book an appointment and show up for the appointment than males. The gender of a patient might affect if the patient will show up or not.\n",
    "3. Patients whose appointments were booked on weekdays are more likely to show up for their appointment than patients who are booked on weekends. This would mean that the day an appointment is booked does affect if a patient will show up or not.\n",
    "4. More adults were booked  and showed up for their appointment compared to other age groups. This means that the age group a patient belongs to does affect if they would show up for an appointment or not.\n",
    "5. Patients with no scholarship had more appointments and more show ups than patients under scholarship. This shows that scholarship does not determine if a patient will or will not show up for an appointment.\n",
    "6. A fewer number of patients received SMS' compared to the total number of patients booked for appointment; the show up of patients who did not receive an SMS was higher regardless. Receiving SMS does determine whether or not a patient will show up for an appointment.\n",
    "7. Patients who are not hypertensive and diabetic have largely to an extent more booked appointments than hypertensive and diabetic patients. Being hypertensive and diabetic might not be considered as a reason why patients will or will not show up for their appointment.\n",
    "8. The countplot shows that patients who are physically challenged (handicapped) had really low numbers of booked appointments proving that majority of the patients were not handicapped. This factor does not determine if a patient will show up for an appointment or not.\n",
    "9. It would seem that very few alcoholic patients had appointments. Majority of the patients are non-alcoholics and have more show ups. Being an alcoholic does not determine whether a patient will show up for an appointment or not.\n"
   ]
  },
  {
   "cell_type": "markdown",
   "id": "c1266aa6",
   "metadata": {},
   "source": [
    "### Limitation\n",
    "- Most of the variables in the dataset are categorical, thus, limiting the kind of analysis that can be done."
   ]
  },
  {
   "cell_type": "markdown",
   "id": "7c3191c7",
   "metadata": {},
   "source": [
    "## References"
   ]
  },
  {
   "cell_type": "markdown",
   "id": "dd441195",
   "metadata": {},
   "source": [
    "1. Google Wikipedia\n",
    "2. Oxford English dictionary"
   ]
  }
 ],
 "metadata": {
  "kernelspec": {
   "display_name": "Python 3",
   "language": "python",
   "name": "python3"
  },
  "language_info": {
   "codemirror_mode": {
    "name": "ipython",
    "version": 3
   },
   "file_extension": ".py",
   "mimetype": "text/x-python",
   "name": "python",
   "nbconvert_exporter": "python",
   "pygments_lexer": "ipython3",
   "version": "3.8.8"
  }
 },
 "nbformat": 4,
 "nbformat_minor": 5
}
